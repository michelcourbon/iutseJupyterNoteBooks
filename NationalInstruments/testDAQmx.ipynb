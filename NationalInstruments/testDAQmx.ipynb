{
 "cells": [
  {
   "attachments": {},
   "cell_type": "markdown",
   "metadata": {},
   "source": [
    "# Pilotage d'une carte NI avec python\n",
    "Pilotage d'une carte d'acquisition de NI, ce code a été vérifié sur un module USB dans l'environnement Windows\n",
    "\n",
    "- un très bon lien avec vidéo https://www.youtube.com/watch?v=HkybKgnF0sQ mais pour Windows, lorsque le driver DAQMX est déjà installé, et avec l'IDE spyder pour python...\n",
    "- le lien sur le site de NI ... on retrouve les memes conseils à https://knowledge.ni.com/KnowledgeArticleDetails?id=kA00Z0000019Pf1SAE \n",
    "\n",
    "- prérequis\n",
    "   - installation de la librairie python `pip install nidaqmx`\n",
    "   - installation du driver de NI NIDAQMX ... \n",
    "\n",
    "- installation du module python derriere un proxy-cache (cas de UJM) la solution sur le net à https://www.activestate.com/resources/quick-reads/pip-install-proxy/ et la ligne de commande pour faire le job sous Windows est la suivante\n",
    "```bash\n",
    "pip install --proxy http://cache.univ-st-etienne.fr:3128 nidaqmx\n",
    "```\n",
    "\n",
    "- vérifier  avec DAQMX (et NIMAX) que le device est le dev1/xxx\n",
    "- consulter la documentation officielle à l'URL suivante https://nidaqmx-python.readthedocs.io/en/latest/ \n",
    "\n",
    "## 1. demonstration basique avec l'usage d'une tache\n",
    "à partir de la vidéo, géneration du code suivant"
   ]
  },
  {
   "cell_type": "code",
   "execution_count": null,
   "metadata": {},
   "outputs": [],
   "source": [
    "import nidaqmx\n",
    "\n",
    "task = nidaqmx.Task()\n",
    "task.ai_channels.add_ai_voltage_chan(\"dev1/ai0\")\n",
    "\n",
    "task.start()\n",
    "value = task.read()\n",
    "print(value)\n",
    "task.stop()\n",
    "task.close()"
   ]
  }
 ],
 "metadata": {
  "kernelspec": {
   "display_name": "Python 3.10.8 64-bit",
   "language": "python",
   "name": "python3"
  },
  "language_info": {
   "codemirror_mode": {
    "name": "ipython",
    "version": 3
   },
   "file_extension": ".py",
   "mimetype": "text/x-python",
   "name": "python",
   "nbconvert_exporter": "python",
   "pygments_lexer": "ipython3",
   "version": "3.10.8"
  },
  "orig_nbformat": 4,
  "vscode": {
   "interpreter": {
    "hash": "ce0e58fb4fb0895dce981548dca3ba9912f5882381a024717cfd65d23dc6c9b6"
   }
  }
 },
 "nbformat": 4,
 "nbformat_minor": 2
}
