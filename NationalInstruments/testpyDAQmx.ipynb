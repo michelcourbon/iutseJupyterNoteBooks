{
 "cells": [
  {
   "attachments": {},
   "cell_type": "markdown",
   "metadata": {},
   "source": [
    "# test de pilotage de matériel NI sous Windows\n",
    "- code source inspiré de l'URL suivante https://pythonhosted.org/PyDAQmx/usage.html \n",
    "- test pour le matériel identifié en tant que \"dev1\" déclaré dans Ni-MAX"
   ]
  },
  {
   "cell_type": "code",
   "execution_count": null,
   "metadata": {},
   "outputs": [],
   "source": [
    "%pip show PyDAQmx"
   ]
  },
  {
   "attachments": {},
   "cell_type": "markdown",
   "metadata": {},
   "source": [
    "Travail avec le matériel...\n",
    "> intéret de cet exemple : modification du paramétrage d'une carte, et acquisition\n"
   ]
  },
  {
   "cell_type": "code",
   "execution_count": null,
   "metadata": {
    "jupyter": {
     "outputs_hidden": true
    }
   },
   "outputs": [],
   "source": [
    "from PyDAQmx import *\n",
    "import numpy\n",
    "\n",
    "analog_input = Task()\n",
    "read = int32()\n",
    "data = numpy.zeros((1000,), dtype=numpy.float64)\n",
    "\n",
    "# DAQmx Configure Code\n",
    "analog_input.CreateAIVoltageChan(b'Dev1/ai0',\"\",DAQmx_Val_Cfg_Default,-10.0,10.0,DAQmx_Val_Volts,None)\n",
    "analog_input.CfgSampClkTiming(\"\",10000.0,DAQmx_Val_Rising,DAQmx_Val_FiniteSamps,1000)\n",
    "\n",
    "# DAQmx Start Code\n",
    "analog_input.StartTask()\n",
    "\n",
    "# DAQmx Read Code\n",
    "analog_input.ReadAnalogF64(1000,10.0,DAQmx_Val_GroupByChannel,data,1000,read,None)\n",
    "\n",
    "print ('Acquired %d points' %read.value)"
   ]
  },
  {
   "attachments": {},
   "cell_type": "markdown",
   "metadata": {},
   "source": [
    "- exemple identique avec ajout du tracé graphique.. du tableau en sortie de l'acquisition"
   ]
  },
  {
   "cell_type": "code",
   "execution_count": null,
   "metadata": {},
   "outputs": [],
   "source": [
    "from PyDAQmx import *\n",
    "import numpy\n",
    "from matplotlib.pyplot import *\n",
    "\n",
    "analog_input = Task()\n",
    "read = int32()\n",
    "data = numpy.zeros((1000,), dtype=numpy.float64)\n",
    "\n",
    "# DAQmx Configure Code\n",
    "analog_input.CreateAIVoltageChan(b'Dev1/ai0',\"\",DAQmx_Val_Cfg_Default,-10.0,10.0,DAQmx_Val_Volts,None)\n",
    "analog_input.CfgSampClkTiming(\"\",10000.0,DAQmx_Val_Rising,DAQmx_Val_FiniteSamps,1000)\n",
    "\n",
    "# DAQmx Start Code\n",
    "analog_input.StartTask()\n",
    "\n",
    "# DAQmx Read Code\n",
    "analog_input.ReadAnalogF64(1000,10.0,DAQmx_Val_GroupByChannel,data,1000,read,None)\n",
    "\n",
    "print ('Acquired %d points' %read.value)\n",
    "\n",
    "# plot the result store in data array\n",
    "t1 = arange(0.0, 1000.0, 1)   \n",
    "plot(t1, data, 'r.')\n",
    "grid(True)\n",
    "show()"
   ]
  }
 ],
 "metadata": {
  "kernelspec": {
   "display_name": "Python 3",
   "language": "python",
   "name": "python3"
  },
  "language_info": {
   "codemirror_mode": {
    "name": "ipython",
    "version": 3
   },
   "file_extension": ".py",
   "mimetype": "text/x-python",
   "name": "python",
   "nbconvert_exporter": "python",
   "pygments_lexer": "ipython3",
   "version": "3.10.6"
  },
  "vscode": {
   "interpreter": {
    "hash": "31f2aee4e71d21fbe5cf8b01ff0e069b9275f58929596ceb00d14d90e3e16cd6"
   }
  }
 },
 "nbformat": 4,
 "nbformat_minor": 4
}
