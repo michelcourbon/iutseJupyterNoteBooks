{
 "cells": [
  {
   "attachments": {},
   "cell_type": "markdown",
   "id": "1c44dfe5-80e8-49bb-9776-186c76cf09e1",
   "metadata": {
    "tags": []
   },
   "source": [
    "# test de traitement de data dans un fichier TDMS de LabView\n",
    "\n",
    "Objectif : faire du post-traitement sur un fichier de type TDMS (origine d'une carte d'acquisition DAQ sous Labview)\n",
    "\n",
    "le fichier de data est une trame (acquisition analogique d'un signal de télecommande de type RC5) : remise en forme, re-échantillonnage et extraction des bits\n",
    "\n",
    "- étape initiale installation de la bibliothèque avec la commande `pip install npTDMS'\n",
    "- vérification de sa version avec la commande suivante"
   ]
  },
  {
   "cell_type": "code",
   "execution_count": null,
   "id": "47f82d27-a236-43e4-8042-cf3afbd11cb7",
   "metadata": {},
   "outputs": [],
   "source": [
    "%pip show npTDMS"
   ]
  },
  {
   "attachments": {},
   "cell_type": "markdown",
   "id": "620ca2eb-b4f2-42e0-aaab-6408df84690e",
   "metadata": {},
   "source": [
    "- ouverture du fichier de data TDMS (modifier le chemin en fonction de votre machine)\n",
    "- le fichier ne possède qu'une seule mesure de tension.. vous pouvez l'importer avec LabView, mais la visualisation est aussi réalisé en python\n",
    "- les noms des \"group\" et \"channel\" je les ai trouvés dans le fichier index !! ceux de l'exemple ne sont pas bon"
   ]
  },
  {
   "cell_type": "code",
   "execution_count": null,
   "id": "e5dd3322-f648-43a9-a902-35c0c7a73666",
   "metadata": {
    "tags": []
   },
   "outputs": [],
   "source": [
    "from nptdms import TdmsFile\n",
    "\n",
    "#file_path = r\"C:\\Users\\courbon\\Documents\\jupyter\\LV\\test.tdms\"\n",
    "file_path = \"./test.tdms\"\n",
    "tdms_file = TdmsFile.read(file_path)\n",
    "group = tdms_file['Group Name']\n",
    "channel = group['Voltage']\n",
    "channel_data = channel[:]\n",
    "channel_properties = channel.properties\n",
    "print (\"properties:\",channel_properties,\"\\n\")\n",
    "print (\"data\",channel_data)"
   ]
  },
  {
   "attachments": {},
   "cell_type": "markdown",
   "id": "1e8686f9-0dc0-4b17-b244-e24c70b941f5",
   "metadata": {},
   "source": [
    "- quelques caractéristiques du signal (waveform) comme l'échantillonnage et la taille"
   ]
  },
  {
   "cell_type": "code",
   "execution_count": null,
   "id": "a6151978-229a-4d06-95ec-44558a96717c",
   "metadata": {
    "tags": []
   },
   "outputs": [],
   "source": [
    "dt = channel_properties[\"wf_increment\"]\n",
    "nbData = len(channel_data)\n",
    "print (\"Te = \",dt,\"s\", \" ; size \",nbData)"
   ]
  },
  {
   "cell_type": "markdown",
   "id": "b3c496da-9134-4464-8161-b0e11c8fe591",
   "metadata": {},
   "source": [
    "- affichage du signal avec matplotlib (d'abord en mode ligne), cf la documentation sur le site de ce projet à https://matplotlib.org/ ou plus simplement à https://www.w3schools.com/python/matplotlib_intro.asp "
   ]
  },
  {
   "cell_type": "code",
   "execution_count": null,
   "id": "7d44b4d6-5a2f-4a75-9afd-48441bc1b32a",
   "metadata": {},
   "outputs": [],
   "source": [
    "import matplotlib.pyplot as plt\n",
    "\n",
    "plt.plot(channel_data)\n",
    "plt.show()"
   ]
  },
  {
   "cell_type": "markdown",
   "id": "b5254288-ea8c-4c6e-a02d-9a507c7ede72",
   "metadata": {},
   "source": [
    "- réalisation d'une segmentation simple et affichage du résultat"
   ]
  },
  {
   "cell_type": "code",
   "execution_count": null,
   "id": "1869a60f-e378-4b9d-a041-5b36907c04e4",
   "metadata": {},
   "outputs": [],
   "source": [
    "bin_data = []\n",
    "for x in channel_data:\n",
    "    if x < 4.7 :\n",
    "        x = 0\n",
    "    else:\n",
    "        x = 1\n",
    "    bin_data.append(x)\n",
    "plt.plot(bin_data)\n",
    "plt.show()"
   ]
  },
  {
   "cell_type": "markdown",
   "id": "f5d2adbf-ba7a-4008-90fe-2e69a2d5b229",
   "metadata": {},
   "source": [
    "- ensuite, ré-echantillonage du tableau : pour chaque bit prendre une valeur au milieu de la 1/2 période, voir la formule de calcul sur la doc Joplin"
   ]
  },
  {
   "cell_type": "code",
   "execution_count": null,
   "id": "9d4f5d62-2378-4e22-8dd4-32e91c7cee3b",
   "metadata": {},
   "outputs": [],
   "source": [
    "import math\n",
    "Te = dt * 1000\n",
    "table1 = []\n",
    "table2 = []\n",
    "for nb_bit in range(0,14):\n",
    "    i1 = math.trunc( (0.445+nb_bit*1.778) / Te)\n",
    "    table1.append(bin_data[i1])\n",
    "    i2 = math.trunc( (1.3335+nb_bit*1.778) / Te)\n",
    "    table2.append(bin_data[i2])\n",
    "    print( 'indices = ',i1,i2)\n",
    "\n",
    "for i in range(0,13):\n",
    "    print('t1=',table1[i],'/t t2 = ',table2[i])"
   ]
  },
  {
   "cell_type": "markdown",
   "id": "8ffce024-92e9-43be-b396-6881d975a3d2",
   "metadata": {},
   "source": [
    "- construction des valeurs de l'adressage (sur 5 bits) et de l'instruction (sur les 6 bits suivants) et la transformation d'une liste ou array de binaire en décimal cf https://www.tutorialspoint.com/binary-list-to-integer-in-python"
   ]
  },
  {
   "cell_type": "code",
   "execution_count": null,
   "id": "599581b6-690a-457d-9452-3e65f6665b4e",
   "metadata": {
    "tags": []
   },
   "outputs": [],
   "source": [
    "deca = 3 \n",
    "adresse = []\n",
    "for i in range(0,5):\n",
    "    adresse.append(table1[i+deca])\n",
    "deca += 5\n",
    "instruction = []\n",
    "print( 'adresse = ',adresse)\n",
    "result = 0\n",
    "for digits in adresse:\n",
    "    result = (result << 1) | digits\n",
    "print( 'en decimal ',result)\n",
    "\n",
    "for i in range(0,6):\n",
    "        instruction.append(table1[i+deca])\n",
    "print( 'instruction = ',instruction)\n",
    "result = 0\n",
    "for digits in instruction:\n",
    "    result = (result << 1) | digits\n",
    "print( 'en decimal ',result)"
   ]
  }
 ],
 "metadata": {
  "kernelspec": {
   "display_name": "Python 3",
   "language": "python",
   "name": "python3"
  },
  "language_info": {
   "codemirror_mode": {
    "name": "ipython",
    "version": 3
   },
   "file_extension": ".py",
   "mimetype": "text/x-python",
   "name": "python",
   "nbconvert_exporter": "python",
   "pygments_lexer": "ipython3",
   "version": "3.10.6"
  },
  "vscode": {
   "interpreter": {
    "hash": "31f2aee4e71d21fbe5cf8b01ff0e069b9275f58929596ceb00d14d90e3e16cd6"
   }
  }
 },
 "nbformat": 4,
 "nbformat_minor": 5
}
