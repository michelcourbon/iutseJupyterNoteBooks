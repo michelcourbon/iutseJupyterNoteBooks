{
 "cells": [
  {
   "attachments": {},
   "cell_type": "markdown",
   "metadata": {},
   "source": [
    "# traitement d'un fichier enedis\n",
    "le dataset des données temporelles ne concerne qu'une partie de l'année\n",
    "- importation du dataframe\n",
    "- usage de la propriété shape du dataframe pour disposer de la taille de la matrice"
   ]
  },
  {
   "cell_type": "code",
   "execution_count": null,
   "metadata": {},
   "outputs": [],
   "source": [
    "import pandas as pd\n",
    "data = pd.read_csv('enedisReduit.csv',sep=',')\n",
    "print(data.columns)\n",
    "print(data[0:3])\n",
    "print(data.size)\n",
    "data.shape"
   ]
  },
  {
   "attachments": {},
   "cell_type": "markdown",
   "metadata": {},
   "source": [
    "- conversion de la colonne de l'horodatage en date\n",
    "\n",
    "à titre d'exemple : \n",
    "- géneration des colonnes supplémentaires contenant le mois, semaine jour et heure... cf l'objet dt (datatime) du dataframe"
   ]
  },
  {
   "cell_type": "code",
   "execution_count": null,
   "metadata": {},
   "outputs": [],
   "source": [
    "x = pd.DataFrame(data.copy())\n",
    "x[\"date\"] = pd.to_datetime(data[\"Horodate\"])\n",
    "print(\"tableau initial\")\n",
    "print(x[0:3])\n",
    "x.drop(columns='Horodate',inplace=True)\n",
    "x[\"month\"] = x[\"date\"].dt.month\n",
    "x[\"week\"] = x[\"date\"].dt.isocalendar().week\n",
    "x[\"day\"] = x[\"date\"].dt.day_name()\n",
    "x[\"hour\"] = x[\"date\"].dt.hour\n",
    "print(\"\\n tableau avec colonnes pour le traitement en fonction de la date\")\n",
    "print(x[0:6])"
   ]
  },
  {
   "attachments": {},
   "cell_type": "markdown",
   "metadata": {},
   "source": [
    "### traitement en fonction du mois\n",
    "- récupération + géneration de la colonne month et regroupement par mois : attention le mois devient l'index\n",
    "- regroupement et calcul la valeur moyenne du mois\n",
    "- regroupement et calcul de la valeur cumulée sur le mois"
   ]
  },
  {
   "cell_type": "code",
   "execution_count": null,
   "metadata": {},
   "outputs": [],
   "source": [
    "y = pd.DataFrame(data.copy())\n",
    "y[\"date\"] = pd.to_datetime(y[\"Horodate\"])\n",
    "y[\"month\"] = y[\"date\"].dt.month\n",
    "y[\"MonthName\"] = y[\"date\"].dt.month_name()\n",
    "y.drop(columns='Horodate',inplace=True)\n",
    "print(y.head())\n",
    "\n",
    "# z = y.groupby(['month','MonthName']).mean('Valeur')\n",
    "z = y.groupby('MonthName').mean('Valeur')\n",
    "print(\"\\n valeur moyenne en fonction du mois\")\n",
    "print (z)\n",
    "\n",
    "z = y.groupby('MonthName').sum('Valeur')\n",
    "print(\"\\n consommation totale en fonction du mois\")\n",
    "print (z)"
   ]
  },
  {
   "cell_type": "markdown",
   "metadata": {},
   "source": [
    "affichage du résultat avec label dans la colonne \"name\"\n",
    "- usage de la bibliothèque https://matplotlib.org/ \n",
    "- la commande show pas utile dans les notebooks\n",
    "- fonction basique de tracé de la courbe (j'ai utilisé le groupby afin de conserver en sortie le nom du mois...)\n",
    "- le tracé graphique en histogramme ne semble pas simple https://www.geeksforgeeks.org/matplotlib-axes-axes-bar-in-python/ \n",
    "- il y a aussi la bibliothèque numpy!! à voir dans l'exemple 1 de la gallery https://www.python-graph-gallery.com/barplot/ "
   ]
  },
  {
   "cell_type": "code",
   "execution_count": null,
   "metadata": {},
   "outputs": [],
   "source": [
    "import matplotlib.pyplot as plt\n",
    "print(z.head())\n",
    "z['Valeur'].plot()"
   ]
  },
  {
   "cell_type": "code",
   "execution_count": null,
   "metadata": {},
   "outputs": [],
   "source": [
    "import numpy as np\n",
    "\n",
    "bars = z.index.to_numpy()\n",
    "print(bars)\n",
    "y_pos = np.arange(len(bars))\n",
    "arr = z['Valeur'].to_numpy()\n",
    "plt.bar(y_pos, arr)\n",
    "plt.xticks(y_pos, bars)\n",
    "plt.show()"
   ]
  },
  {
   "cell_type": "code",
   "execution_count": null,
   "metadata": {},
   "outputs": [],
   "source": [
    "z = x.groupby('day').sum('Valeur')\n",
    "print(z)"
   ]
  },
  {
   "cell_type": "code",
   "execution_count": null,
   "metadata": {},
   "outputs": [],
   "source": [
    "z= x.groupby('hour').mean('Valeur')\n",
    "print(z)"
   ]
  }
 ],
 "metadata": {
  "kernelspec": {
   "display_name": "Python 3",
   "language": "python",
   "name": "python3"
  },
  "language_info": {
   "codemirror_mode": {
    "name": "ipython",
    "version": 3
   },
   "file_extension": ".py",
   "mimetype": "text/x-python",
   "name": "python",
   "nbconvert_exporter": "python",
   "pygments_lexer": "ipython3",
   "version": "3.10.6 (main, Nov 14 2022, 16:10:14) [GCC 11.3.0]"
  },
  "orig_nbformat": 4,
  "vscode": {
   "interpreter": {
    "hash": "31f2aee4e71d21fbe5cf8b01ff0e069b9275f58929596ceb00d14d90e3e16cd6"
   }
  }
 },
 "nbformat": 4,
 "nbformat_minor": 2
}
