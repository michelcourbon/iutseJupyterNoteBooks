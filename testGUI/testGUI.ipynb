{
 "cells": [
  {
   "attachments": {},
   "cell_type": "markdown",
   "metadata": {},
   "source": [
    "# Usage des Widgets\n",
    "- objectif : maitriser les widgets pour modifier des variables (programmation évenementielle dans un notebook)\n",
    "- ce test est basé sur un article de blog : https://towardsdatascience.com/bring-your-jupyter-notebook-to-life-with-interactive-widgets-bc12e03f0916\n",
    "- la documentation officielle de ce paquet et la liste des divers widgets à https://ipywidgets.readthedocs.io/en/stable/examples/Widget%20List.html \n",
    "\n",
    "phase initialisation:\n",
    "- installation de la bibliothèque `pip install ipywidgets` (attention derriere le proxy-cache de UJM)\n",
    "- redemarrer le serveur (ou meme l'environnement pour la prise en compte)\n",
    "- vérifier la présence de cette bibliothèque avec le code suivant"
   ]
  },
  {
   "cell_type": "code",
   "execution_count": null,
   "metadata": {},
   "outputs": [],
   "source": [
    "%pip show ipywidgets"
   ]
  },
  {
   "attachments": {},
   "cell_type": "markdown",
   "metadata": {},
   "source": [
    "## 1.1 ajouter un \"slider\" \n",
    "les arguments sont explicites.."
   ]
  },
  {
   "cell_type": "code",
   "execution_count": null,
   "metadata": {},
   "outputs": [],
   "source": [
    "import ipywidgets as widgets\n",
    "widgets.IntSlider(\n",
    "    min=0,\n",
    "    max=10,\n",
    "    step=1,\n",
    "    description='Slider:',\n",
    "    value=3\n",
    ")\n"
   ]
  },
  {
   "attachments": {},
   "cell_type": "markdown",
   "metadata": {},
   "source": [
    "- ensuite rendre ce widget en tant que cellule, et non pas sortie (comme sur l'exmple precedent) attention: pas d'arguments pour le slider, donc toutes les valeurs sont celles par défaut ( de 0 à 100 avec pas de 1, et valeur de départ = 0)\n",
    "- objectif : acceder au contenu de ce widget (pour cela modifier la valeur, et executer le code suivant)"
   ]
  },
  {
   "cell_type": "code",
   "execution_count": null,
   "metadata": {},
   "outputs": [],
   "source": [
    "from IPython.display import display\n",
    "slider = widgets.IntSlider()\n",
    "display(slider)"
   ]
  },
  {
   "cell_type": "code",
   "execution_count": null,
   "metadata": {},
   "outputs": [],
   "source": [
    "slider.value"
   ]
  },
  {
   "attachments": {},
   "cell_type": "markdown",
   "metadata": {},
   "source": [
    "- Objectif : liaison entre 2 widgets (slider et du text par exemple)\n",
    "> remarque :  cela fonctionne dans les 2 sens (mais pas la touche entrée dans le textbox : utilisation d'un autre touche tab, up...)"
   ]
  },
  {
   "cell_type": "code",
   "execution_count": null,
   "metadata": {},
   "outputs": [],
   "source": [
    "slider = widgets.IntSlider()\n",
    "text = widgets.IntText()\n",
    "display(slider, text)\n",
    "widgets.jslink((slider, 'value'), (text, 'value'))"
   ]
  },
  {
   "attachments": {},
   "cell_type": "markdown",
   "metadata": {},
   "source": [
    "## 1.2 widget et event\n",
    "- Objectif : passer à la programmation évenementielle avec un bouton (et la méthode On_click)\n",
    "\n",
    "pour tester vous pouvez appuyer plusieurs fois sur ce bouton !!"
   ]
  },
  {
   "cell_type": "code",
   "execution_count": null,
   "metadata": {},
   "outputs": [],
   "source": [
    "btn = widgets.Button(description='Medium')\n",
    "display(btn)\n",
    "def btn_eventhandler(obj):\n",
    "    print('Hello from the {} button!'.format(obj.description))\n",
    "btn.on_click(btn_eventhandler)"
   ]
  },
  {
   "attachments": {},
   "cell_type": "markdown",
   "metadata": {},
   "source": [
    "## 1.3 exemple avec un dataframe\n",
    "- usage de pandas pour la gestion des tableaux et la lecture de fichiers csv\n",
    "- usage des widgets de type drop_down (équivalent des ListBox) pour rendre la visu dynamique"
   ]
  },
  {
   "cell_type": "code",
   "execution_count": null,
   "metadata": {},
   "outputs": [],
   "source": [
    "import pandas as pd\n",
    "import numpy as np\n",
    "# url = \"https://data.london.gov.uk/download/number-international-visitors-london/b1e0f953-4c8a-4b45-95f5-e0d143d5641e/international-visitors-london-raw.csv\"\n",
    "url = \"international-visitors-london-raw.csv\"\n",
    "df_london = pd.read_csv(url)\n",
    "# affichage de quelques informations sur le fichier : Tuple of array dimensions; et les premières lignes\n",
    "print(df_london.shape)\n",
    "df_london.head()"
   ]
  },
  {
   "attachments": {},
   "cell_type": "markdown",
   "metadata": {},
   "source": [
    "- une liste pour filtrer suivant la colonne \"year\" \n",
    "> inconvénient : à chaque fois que vous sélectionner\n",
    "cela s'ajouter dans le champ d'execution !! essayer"
   ]
  },
  {
   "cell_type": "code",
   "execution_count": null,
   "metadata": {},
   "outputs": [],
   "source": [
    "ALL = 'ALL'\n",
    "# méthode dédiée au tri en fonction du paramètre ALL\n",
    "def unique_sorted_values_plus_ALL(array):\n",
    "    unique = array.unique().tolist()\n",
    "    unique.sort()\n",
    "    unique.insert(0, ALL)\n",
    "    return unique\n",
    "# remplir la liste\n",
    "dropdown_year = widgets.Dropdown(options = unique_sorted_values_plus_ALL(df_london.year))\n",
    "# méthode associée à l'evenement\n",
    "def dropdown_year_eventhandler(change):\n",
    "    if (change.new == ALL):\n",
    "        display(df_london)\n",
    "    else:\n",
    "        display(df_london[df_london.year == change.new])\n",
    "# relier l'evenement à l'objet\n",
    "dropdown_year.observe(dropdown_year_eventhandler, names='value')\n",
    "# realiser l'affichage de l'object\n",
    "display(dropdown_year)"
   ]
  },
  {
   "attachments": {},
   "cell_type": "markdown",
   "metadata": {},
   "source": [
    "- reprise de l'exemple précedent pour ajouter la méthode qui efface la sortie"
   ]
  },
  {
   "cell_type": "code",
   "execution_count": null,
   "metadata": {},
   "outputs": [],
   "source": [
    "ALL = 'ALL'\n",
    "# méthode dédiée au tri en fonction du paramètre ALL\n",
    "def unique_sorted_values_plus_ALL(array):\n",
    "    unique = array.unique().tolist()\n",
    "    unique.sort()\n",
    "    unique.insert(0, ALL)\n",
    "    return unique\n",
    "# remplir la liste\n",
    "dropdown_year = widgets.Dropdown(options = unique_sorted_values_plus_ALL(df_london.year))\n",
    "# on récupere le pointeur vers la sortie\n",
    "output_year = widgets.Output()\n",
    "# méthode associée à l'evenement en version modifiée\n",
    "def dropdown_year_eventhandler(change):\n",
    "    output_year.clear_output()\n",
    "    with output_year:\n",
    "        if (change.new == ALL):\n",
    "            display(df_london)\n",
    "        else:\n",
    "            display(df_london[df_london.year == change.new])\n",
    "# relier l'evenement à l'objet\n",
    "dropdown_year.observe(dropdown_year_eventhandler, names='value')\n",
    "# realiser l'affichage de l'object liste\n",
    "display(dropdown_year)\n",
    "# realiser l'affichage de l'object de sortie en dessous de la liste !!\n",
    "display(output_year)\n"
   ]
  },
  {
   "attachments": {},
   "cell_type": "markdown",
   "metadata": {},
   "source": [
    "## bien d'autre exemples dans ce site... \n",
    "> je vous laisse le soin d'approfondir\n",
    "- liaison entre plusieurs drop_down\n",
    "- ajouter un onglet\n",
    "- ajouter un graphique..."
   ]
  }
 ],
 "metadata": {
  "kernelspec": {
   "display_name": "Python 3",
   "language": "python",
   "name": "python3"
  },
  "language_info": {
   "codemirror_mode": {
    "name": "ipython",
    "version": 3
   },
   "file_extension": ".py",
   "mimetype": "text/x-python",
   "name": "python",
   "nbconvert_exporter": "python",
   "pygments_lexer": "ipython3",
   "version": "3.10.6 (main, Nov 14 2022, 16:10:14) [GCC 11.3.0]"
  },
  "orig_nbformat": 4,
  "vscode": {
   "interpreter": {
    "hash": "31f2aee4e71d21fbe5cf8b01ff0e069b9275f58929596ceb00d14d90e3e16cd6"
   }
  }
 },
 "nbformat": 4,
 "nbformat_minor": 2
}
