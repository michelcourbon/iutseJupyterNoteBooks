{
 "cells": [
  {
   "attachments": {},
   "cell_type": "markdown",
   "metadata": {
    "tags": []
   },
   "source": [
    "# test de traitement d'images avec la bibliothèque OpenCV\n",
    "pour traiter des images, utilisation de la bibliothèque libre OpenCV https://opencv.org/ \n",
    "- phase initiale d'installation de la bibliothèque dans un terminal avec la commande `pip install opencv-python3`\n",
    "- vérification de la version de la bibliothèque ainsi que de sa dépendance (cf le paquet officiel à https://pypi.org/project/opencv-python/)"
   ]
  },
  {
   "cell_type": "code",
   "execution_count": null,
   "metadata": {},
   "outputs": [],
   "source": [
    "%pip show matplotlib\n",
    "%pip show opencv-python"
   ]
  },
  {
   "attachments": {},
   "cell_type": "markdown",
   "metadata": {
    "tags": []
   },
   "source": [
    "- importation des bibliothèques et une application de visualisation de l'image très simple\n",
    "\n",
    "> test de l'affichage de l'image couleur \"Lenna.png\" dans une fenetre indépendante"
   ]
  },
  {
   "cell_type": "code",
   "execution_count": null,
   "metadata": {
    "tags": []
   },
   "outputs": [],
   "source": [
    "import cv2\n",
    "print(cv2.__version__)\n",
    "img1 = cv2.imread(\"Lenna.png\")\n",
    "cv2.imshow(\"lenna - original color image\",img1)\n",
    "cv2.waitKey(0)"
   ]
  },
  {
   "cell_type": "markdown",
   "metadata": {
    "tags": []
   },
   "source": [
    "> le même test mais avec affichage dans l'environnement JupyterLab"
   ]
  },
  {
   "cell_type": "code",
   "execution_count": null,
   "metadata": {},
   "outputs": [],
   "source": [
    "import cv2\n",
    "from matplotlib import pyplot as plt\n",
    "print(cv2.__version__)\n",
    "img1 = cv2.imread(\"Lenna.png\")\n",
    "color = cv2.cvtColor(img1, cv2.COLOR_BGR2RGB)\n",
    "plt.imshow(color)\n",
    "plt.title('Image de Lenna')\n",
    "plt.show()"
   ]
  },
  {
   "cell_type": "code",
   "execution_count": null,
   "metadata": {},
   "outputs": [],
   "source": []
  }
 ],
 "metadata": {
  "kernelspec": {
   "display_name": "Python 3",
   "language": "python",
   "name": "python3"
  },
  "language_info": {
   "codemirror_mode": {
    "name": "ipython",
    "version": 3
   },
   "file_extension": ".py",
   "mimetype": "text/x-python",
   "name": "python",
   "nbconvert_exporter": "python",
   "pygments_lexer": "ipython3",
   "version": "3.10.6"
  },
  "vscode": {
   "interpreter": {
    "hash": "31f2aee4e71d21fbe5cf8b01ff0e069b9275f58929596ceb00d14d90e3e16cd6"
   }
  }
 },
 "nbformat": 4,
 "nbformat_minor": 4
}
